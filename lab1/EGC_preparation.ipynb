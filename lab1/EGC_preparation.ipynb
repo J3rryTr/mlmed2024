{
 "cells": [
  {
   "cell_type": "code",
   "execution_count": null,
   "metadata": {},
   "outputs": [],
   "source": [
    "import pandas as pd\n",
    "import numpy as np\n",
    "import matplotlib.pyplot as plt\n",
    "from tqdm import tqdm\n",
    "from tqdm.auto import trange\n",
    "\n",
    "from sklearn.utils import resample\n",
    "from sklearn.preprocessing import StandardScaler\n",
    "\n",
    "import torch\n",
    "import torch.nn as nn\n",
    "import torch.optim as optim\n",
    "import torch.nn.functional as F\n",
    "from torch.cuda.amp import GradScaler, autocast\n",
    "from torch.utils.data import Dataset, DataLoader\n",
    "\n",
    "device = torch.device('cuda' if torch.cuda.is_available() else 'cpu')"
   ]
  },
  {
   "cell_type": "code",
   "execution_count": null,
   "metadata": {},
   "outputs": [],
   "source": [
    "train = pd.read_csv('/home/jerry/code/MLmedicine/lab1/dataset/mitbih_train.csv', header=None)\n",
    "test = pd.read_csv('/home/jerry/code/MLmedicine/lab1/dataset/mitbih_test.csv', header=None)"
   ]
  },
  {
   "cell_type": "code",
   "execution_count": null,
   "metadata": {},
   "outputs": [],
   "source": [
    "train"
   ]
  },
  {
   "cell_type": "code",
   "execution_count": null,
   "metadata": {},
   "outputs": [],
   "source": [
    "train[187]"
   ]
  },
  {
   "cell_type": "markdown",
   "metadata": {},
   "source": [
    "# data preparation"
   ]
  },
  {
   "cell_type": "code",
   "execution_count": null,
   "metadata": {},
   "outputs": [],
   "source": [
    "# Count values\n",
    "plt.pie(train[187].value_counts(), labels=['N', 'S', 'V', 'F', 'Q'], autopct='%1.1f%%', colors = ['#FF5C5C', '#66B3FF', '#99FF99', '#FFCC99', '#FFD700'])\n",
    "plt.title('The percentage of class counting')\n",
    "plt.show()"
   ]
  },
  {
   "cell_type": "code",
   "execution_count": null,
   "metadata": {},
   "outputs": [],
   "source": [
    "random_seed = 0\n",
    "df_0=(train[train[187]==0]).sample(n=20000,random_state=42)\n",
    "df_1=train[train[187]==1]\n",
    "df_2=train[train[187]==2]\n",
    "df_3=train[train[187]==3]\n",
    "df_4=train[train[187]==4]\n",
    "\n",
    "\n",
    "df_1_upsample=resample(df_1,replace=True,n_samples=20000,random_state=random_seed+1)\n",
    "df_2_upsample=resample(df_2,replace=True,n_samples=20000,random_state=random_seed+2)\n",
    "df_3_upsample=resample(df_3,replace=True,n_samples=20000,random_state=random_seed+3)\n",
    "df_4_upsample=resample(df_4,replace=True,n_samples=20000,random_state=random_seed+4)\n",
    "\n",
    "train=pd.concat([df_0,df_1_upsample,df_2_upsample,df_3_upsample,df_4_upsample])"
   ]
  },
  {
   "cell_type": "code",
   "execution_count": null,
   "metadata": {},
   "outputs": [],
   "source": [
    "plt.figure(figsize=(7, 7))\n",
    "my_circle=plt.Circle( (0,0), 0.7, color='white')\n",
    "plt.pie(train[187].value_counts(), labels=['N', 'S', 'V', 'F', 'Q'], autopct='%1.1f%%', colors = ['#FF5C5C', '#66B3FF', '#99FF99', '#FFCC99', '#FFD700'])\n",
    "plt.title('Disproportion of the data')\n",
    "plt.show()"
   ]
  },
  {
   "cell_type": "code",
   "execution_count": null,
   "metadata": {},
   "outputs": [],
   "source": [
    "X_train, y_train = train.iloc[:, :187], train[187]\n",
    "X_test, y_test = test.iloc[:, :187], test[187]"
   ]
  },
  {
   "cell_type": "code",
   "execution_count": null,
   "metadata": {},
   "outputs": [],
   "source": [
    "print(X_train)"
   ]
  },
  {
   "cell_type": "code",
   "execution_count": null,
   "metadata": {},
   "outputs": [],
   "source": [
    "labels = {0: 'N', 1: 'S', 2: 'V', 3: 'F', 4: 'Q'}\n",
    "fig, ax = plt.subplots(5,1, figsize=(7,5), gridspec_kw={'hspace': 0.5})\n",
    "for i in range(5):\n",
    "    ax[i].plot(X_train[y_train==i].iloc[0])\n",
    "    ax[i].set_title(f'label={labels[i]}')\n",
    "    ax[i].set_xticks([])"
   ]
  },
  {
   "cell_type": "code",
   "execution_count": null,
   "metadata": {},
   "outputs": [],
   "source": [
    "standard_scaler = StandardScaler()\n",
    "standard_scaler.fit(X_train)\n",
    "X_train_norm = standard_scaler.transform(X_train)\n",
    "X_test_norm = standard_scaler.transform(X_test)"
   ]
  },
  {
   "cell_type": "code",
   "execution_count": null,
   "metadata": {},
   "outputs": [],
   "source": [
    "fig, ax = plt.subplots(5,2, figsize=(7,5), gridspec_kw={'hspace': 0.5})\n",
    "for i in range(5):\n",
    "    ax[i][0].plot(X_train[y_train==i].iloc[0])\n",
    "    ax[i][1].plot(X_train_norm[y_train==i][0])\n",
    "    ax[i][0].set_title(f'before normalization, label={labels[i]}')\n",
    "    ax[i][0].set_xticks([])\n",
    "    ax[i][1].set_xticks([])\n",
    "    ax[i][1].set_title(f'after normalization, label={labels[i]}')"
   ]
  },
  {
   "cell_type": "code",
   "execution_count": null,
   "metadata": {},
   "outputs": [],
   "source": [
    "def getXy(df):\n",
    "    X = df.drop(187, axis=1)\n",
    "    y = df[187]\n",
    "    return X, y\n",
    "\n",
    "getXy(train)"
   ]
  },
  {
   "cell_type": "markdown",
   "metadata": {},
   "source": [
    "# Evaluation"
   ]
  },
  {
   "cell_type": "code",
   "execution_count": null,
   "metadata": {},
   "outputs": [],
   "source": []
  }
 ],
 "metadata": {
  "kernelspec": {
   "display_name": "CV",
   "language": "python",
   "name": "python3"
  },
  "language_info": {
   "codemirror_mode": {
    "name": "ipython",
    "version": 3
   },
   "file_extension": ".py",
   "mimetype": "text/x-python",
   "name": "python",
   "nbconvert_exporter": "python",
   "pygments_lexer": "ipython3",
   "version": "3.8.18"
  }
 },
 "nbformat": 4,
 "nbformat_minor": 2
}
